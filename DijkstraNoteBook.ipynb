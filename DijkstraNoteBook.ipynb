{
  "nbformat": 4,
  "nbformat_minor": 0,
  "metadata": {
    "colab": {
      "name": "ADAProjectNotebookV6MaybeFinal.ipynb",
      "provenance": [],
      "collapsed_sections": [
        "e9FAjjVhvnJR",
        "Hqkrsnn9vwOB",
        "kKNiWY41v8tf",
        "lTdKDN6ifzXJ",
        "KEPTYEw8YvB4",
        "4mG7IGQ_Y7OQ",
        "2OG-RWGTZMj7",
        "R4qWs5EG2Imm"
      ]
    },
    "kernelspec": {
      "display_name": "Python 3",
      "name": "python3"
    },
    "language_info": {
      "name": "python"
    }
  },
  "cells": [
    {
      "cell_type": "markdown",
      "metadata": {
        "id": "e9FAjjVhvnJR"
      },
      "source": [
        "#Import Libraries"
      ]
    },
    {
      "cell_type": "code",
      "metadata": {
        "colab": {
          "base_uri": "https://localhost:8080/"
        },
        "id": "u0yN1BL7swDq",
        "outputId": "1fcd5113-22ee-4d95-8e51-d0d269d25efd"
      },
      "source": [
        "!pip install xmltodict\n",
        "!pip install folium\n",
        "!pip install numpy"
      ],
      "execution_count": 21,
      "outputs": [
        {
          "output_type": "stream",
          "text": [
            "Requirement already satisfied: xmltodict in /usr/local/lib/python3.7/dist-packages (0.12.0)\n",
            "Requirement already satisfied: folium in /usr/local/lib/python3.7/dist-packages (0.8.3)\n",
            "Requirement already satisfied: numpy in /usr/local/lib/python3.7/dist-packages (from folium) (1.19.5)\n",
            "Requirement already satisfied: requests in /usr/local/lib/python3.7/dist-packages (from folium) (2.23.0)\n",
            "Requirement already satisfied: six in /usr/local/lib/python3.7/dist-packages (from folium) (1.15.0)\n",
            "Requirement already satisfied: jinja2 in /usr/local/lib/python3.7/dist-packages (from folium) (2.11.3)\n",
            "Requirement already satisfied: branca>=0.3.0 in /usr/local/lib/python3.7/dist-packages (from folium) (0.4.2)\n",
            "Requirement already satisfied: idna<3,>=2.5 in /usr/local/lib/python3.7/dist-packages (from requests->folium) (2.10)\n",
            "Requirement already satisfied: certifi>=2017.4.17 in /usr/local/lib/python3.7/dist-packages (from requests->folium) (2020.12.5)\n",
            "Requirement already satisfied: chardet<4,>=3.0.2 in /usr/local/lib/python3.7/dist-packages (from requests->folium) (3.0.4)\n",
            "Requirement already satisfied: urllib3!=1.25.0,!=1.25.1,<1.26,>=1.21.1 in /usr/local/lib/python3.7/dist-packages (from requests->folium) (1.24.3)\n",
            "Requirement already satisfied: MarkupSafe>=0.23 in /usr/local/lib/python3.7/dist-packages (from jinja2->folium) (1.1.1)\n",
            "Requirement already satisfied: numpy in /usr/local/lib/python3.7/dist-packages (1.19.5)\n"
          ],
          "name": "stdout"
        }
      ]
    },
    {
      "cell_type": "code",
      "metadata": {
        "id": "5LsPwU4qs4V-"
      },
      "source": [
        "import xmltodict as xtd\n",
        "import folium\n",
        "import numpy as np\n",
        "import time\n",
        "from IPython.display import display\n",
        "from IPython.display import clear_output "
      ],
      "execution_count": 22,
      "outputs": []
    },
    {
      "cell_type": "markdown",
      "metadata": {
        "id": "Hqkrsnn9vwOB"
      },
      "source": [
        "# Import Map Data"
      ]
    },
    {
      "cell_type": "code",
      "metadata": {
        "id": "03P6NyHos_5r"
      },
      "source": [
        "with open('/content/drive/MyDrive/ADAProject/mapHSR.osm', \"rb\") as osm_fn:\n",
        "  map_osm = xtd.parse(osm_fn)['osm']"
      ],
      "execution_count": 43,
      "outputs": []
    },
    {
      "cell_type": "markdown",
      "metadata": {
        "id": "kKNiWY41v8tf"
      },
      "source": [
        "# Parse Map Data"
      ]
    },
    {
      "cell_type": "code",
      "metadata": {
        "colab": {
          "base_uri": "https://localhost:8080/"
        },
        "id": "w0A4_Tt4tNG1",
        "outputId": "df9f1a7c-97e6-4d4a-b235-04e9ad33a44d"
      },
      "source": [
        "map_osm.keys()"
      ],
      "execution_count": 44,
      "outputs": [
        {
          "output_type": "execute_result",
          "data": {
            "text/plain": [
              "odict_keys(['@version', '@generator', '@copyright', '@attribution', '@license', 'bounds', 'node', 'way', 'relation'])"
            ]
          },
          "metadata": {
            "tags": []
          },
          "execution_count": 44
        }
      ]
    },
    {
      "cell_type": "markdown",
      "metadata": {
        "id": "-Z-ula8gfPb_"
      },
      "source": [
        "Bounds Parsing"
      ]
    },
    {
      "cell_type": "code",
      "metadata": {
        "id": "LqlsJDnkfTbs"
      },
      "source": [
        "ymax = map_osm['bounds']['@maxlat']\n",
        "ymin = map_osm['bounds']['@minlat']\n",
        "xmax = map_osm['bounds']['@maxlon']\n",
        "xmin = map_osm['bounds']['@minlon']\n",
        "\n",
        "parsed_bounds = [xmin, xmax, ymin, ymax]"
      ],
      "execution_count": 45,
      "outputs": []
    },
    {
      "cell_type": "markdown",
      "metadata": {
        "id": "t6N2IDrud82c"
      },
      "source": [
        "Nodes Parsing"
      ]
    },
    {
      "cell_type": "code",
      "metadata": {
        "id": "79BTkDp3u9oq"
      },
      "source": [
        "Node=map_osm['node']\n",
        "\n",
        "Nnodes=len(Node)\n",
        "\n",
        "Nodeid = [0]*Nnodes\n",
        "xy = []\n",
        "\n",
        "for i in range(Nnodes):\n",
        "  Nodeid[i]=float(Node[i]['@id'])\n",
        "  x=float(Node[i]['@lat'])\n",
        "  y=float(Node[i]['@lon'])\n",
        "  xy.append([x,y])\n",
        "\n",
        "parsed_node={'id':Nodeid, 'xy':xy}\n"
      ],
      "execution_count": 46,
      "outputs": []
    },
    {
      "cell_type": "markdown",
      "metadata": {
        "id": "MlTT79-DeBAS"
      },
      "source": [
        "Parsing Way"
      ]
    },
    {
      "cell_type": "code",
      "metadata": {
        "id": "GeHfri3zdS6v"
      },
      "source": [
        "Way=map_osm['way']\n",
        "\n",
        "Nways=len(Way)\n",
        "\n",
        "Wayid=[0]*Nways\n",
        "nodes_in_way=[0]*Nways\n",
        "tags=[0]*Nways\n",
        "for i in range(Nways):\n",
        "  tempWay = Way[i]\n",
        "  \n",
        "  Wayid[i] = float(tempWay['@id'])\n",
        "\n",
        "  Nnd=len(tempWay['nd'])\n",
        "  ndTemp=[0]*Nnd\n",
        "  \n",
        "  for j in range(Nnd):\n",
        "    ndTemp[j]=float(tempWay['nd'][j]['@ref'])\n",
        "  \n",
        "  nodes_in_way[i] = ndTemp\n",
        "\n",
        "  if 'tag' in tempWay.keys():\n",
        "    if type(tempWay['tag']) is list:\n",
        "      tags[i]=tempWay['tag']\n",
        "    else:\n",
        "      tags[i]=[tempWay['tag']]\n",
        "  else:\n",
        "    tags[i]=[]\n",
        "\n",
        "parsed_way={'id':Wayid,'nodes':nodes_in_way, 'tags':tags}"
      ],
      "execution_count": 47,
      "outputs": []
    },
    {
      "cell_type": "markdown",
      "metadata": {
        "id": "WtClfRP3b1WD"
      },
      "source": [
        "Parsing Relations"
      ]
    },
    {
      "cell_type": "code",
      "metadata": {
        "id": "9oZQ8Vn-aeKN"
      },
      "source": [
        "Relation=map_osm['relation']\n",
        "\n",
        "Nrelation=len(Relation)\n",
        "\n",
        "Relationid=[0]*Nrelation\n",
        "\n",
        "for i in range(Nrelation):\n",
        "  currentRelation = Relation[i]\n",
        "  currentId=currentRelation['@id']\n",
        "  Relationid[i]=float(currentId)\n",
        "\n",
        "parsed_relation={'id':Relationid}"
      ],
      "execution_count": 48,
      "outputs": []
    },
    {
      "cell_type": "markdown",
      "metadata": {
        "id": "OnMRVGKYeN_t"
      },
      "source": [
        "Parsing OSM"
      ]
    },
    {
      "cell_type": "code",
      "metadata": {
        "id": "IWYVOalGeEo9"
      },
      "source": [
        "parsed_osm={\n",
        "    'bounds':parsed_bounds,\n",
        "    'way':parsed_way,\n",
        "    'node':parsed_node,\n",
        "    'relation':parsed_relation,\n",
        "    'attributes':map_osm.keys()\n",
        "}"
      ],
      "execution_count": 49,
      "outputs": []
    },
    {
      "cell_type": "markdown",
      "metadata": {
        "id": "lTdKDN6ifzXJ"
      },
      "source": [
        "# Build Connectivity Matrix"
      ]
    },
    {
      "cell_type": "code",
      "metadata": {
        "id": "Mes4kFeGfkTU"
      },
      "source": [
        "bounds=parsed_osm['bounds']\n",
        "way=parsed_osm['way']\n",
        "node=parsed_osm['node']\n",
        "relation=parsed_osm['relation']"
      ],
      "execution_count": 50,
      "outputs": []
    },
    {
      "cell_type": "code",
      "metadata": {
        "id": "ZG6UFN_Fq9A8"
      },
      "source": [
        "ways_num = len(way['id'])\n",
        "ways_node_set=way['nodes']\n",
        "node_ids = dict()\n",
        "n = len(node['id'])\n",
        "for i in range(n):\n",
        "  node_ids[node['id'][i]] = i\n",
        "\n",
        "road_vals = ['highway', 'motorway', 'motorway_link', 'trunk', 'trunk_link',\n",
        "             'primary', 'primary_link', 'secondary', 'secondary_link',\n",
        "             'tertiary', 'road', 'residential', 'living_street',\n",
        "             'service', 'services', 'motorway_junction']"
      ],
      "execution_count": 51,
      "outputs": []
    },
    {
      "cell_type": "code",
      "metadata": {
        "id": "UOhcFn24G3bg"
      },
      "source": [
        "def create_connectivity():\n",
        "  connectivity_matrix = np.full((Nnodes,Nnodes), float('inf'))\n",
        "  np.fill_diagonal(connectivity_matrix, 0)\n",
        "\n",
        "  for currentWay in range(ways_num):\n",
        "    skip = True\n",
        "    for i in way['tags'][currentWay]:\n",
        "      if i['@k'] in road_vals:\n",
        "        skip = False\n",
        "        break\n",
        "    \n",
        "    if skip:\n",
        "      continue\n",
        "\n",
        "    nodeset=ways_node_set[currentWay]\n",
        "    nodes_num=len(nodeset)\n",
        "\n",
        "    currentWayID = way['id'][currentWay]\n",
        "\n",
        "    for firstnode_local_index in range(nodes_num):\n",
        "      firstnode_id = nodeset[firstnode_local_index]\n",
        "      firstnode_index = node_ids.get(firstnode_id, -1)\n",
        "      if firstnode_index==-1: continue \n",
        "\n",
        "      for othernode_local_index in range(firstnode_local_index+1, nodes_num):\n",
        "        othernode_id=nodeset[othernode_local_index]\n",
        "        othernode_index = node_ids.get(othernode_id, -1)\n",
        "        if othernode_index==-1: continue \n",
        "\n",
        "        if(firstnode_id != othernode_id and connectivity_matrix[firstnode_index,othernode_index]==float('inf')):\n",
        "          connectivity_matrix[firstnode_index, othernode_index] = 1\n",
        "          connectivity_matrix[othernode_index, firstnode_index] = 1\n",
        "\n",
        "  return connectivity_matrix"
      ],
      "execution_count": 52,
      "outputs": []
    },
    {
      "cell_type": "markdown",
      "metadata": {
        "id": "KEPTYEw8YvB4"
      },
      "source": [
        "# Apply Pathfinding Algorithm"
      ]
    },
    {
      "cell_type": "code",
      "metadata": {
        "id": "Q5OFk-hahMQp"
      },
      "source": [
        "def dijkstra(source, connectivity_matrix, p):\n",
        "  s = dict()\n",
        "  s[source] = True\n",
        "  p[source] = source\n",
        "\n",
        "  v = len(connectivity_matrix)\n",
        "  u = source\n",
        "  d_u = float('inf')\n",
        "  for i in range(v):\n",
        "    if i != source and connectivity_matrix[source][i] < d_u:\n",
        "      u = i\n",
        "      d_u = connectivity_matrix[source][i]\n",
        "  s[u] = True\n",
        "  p[u] = source\n",
        "\n",
        "  i = v-2\n",
        "  while i > 0:\n",
        "    u_x = source\n",
        "    d_u = float('inf')\n",
        "\n",
        "    for j in range(v):\n",
        "      if s.get(j, False) == False and connectivity_matrix[source][u] != float('inf') and connectivity_matrix[u][j] != float('inf'):\n",
        "        k = connectivity_matrix[source][u] + connectivity_matrix[u][j]\n",
        "        connectivity_matrix[source][j] = min(connectivity_matrix[source][j], k)\n",
        "        connectivity_matrix[j][source] = connectivity_matrix[source][j]\n",
        "\n",
        "        if connectivity_matrix[source][j] == k:\n",
        "          p[j] = u\n",
        "        elif connectivity_matrix[source][j] == 1:\n",
        "          p[j] = source\n",
        "\n",
        "        if connectivity_matrix[source][j] < d_u:\n",
        "          u_x = j\n",
        "          d_u = connectivity_matrix[source][j]\n",
        "\n",
        "    if u_x == source:\n",
        "      break\n",
        "\n",
        "    s[u_x] = True\n",
        "    u = u_x\n",
        "    i -= 1"
      ],
      "execution_count": 53,
      "outputs": []
    },
    {
      "cell_type": "markdown",
      "metadata": {
        "id": "4mG7IGQ_Y7OQ"
      },
      "source": [
        "# Plot Routes"
      ]
    },
    {
      "cell_type": "code",
      "metadata": {
        "id": "wnE-1ol-14NO"
      },
      "source": [
        "def plot_routes(s, connectivity_matrix):\n",
        "  p = dict()\n",
        "  dijkstra(s, connectivity_matrix, p)\n",
        "\n",
        "  nodes_routes_values=[]\n",
        "  for i in p.keys():\n",
        "    adder=[i,0]\n",
        "    while p[i] != i:\n",
        "      adder[1]+=1\n",
        "      i = p[i]\n",
        "    nodes_routes_values.append(adder)\n",
        "\n",
        "  return nodes_routes_values,p"
      ],
      "execution_count": 54,
      "outputs": []
    },
    {
      "cell_type": "markdown",
      "metadata": {
        "id": "2OG-RWGTZMj7"
      },
      "source": [
        "# Build Map"
      ]
    },
    {
      "cell_type": "code",
      "metadata": {
        "id": "gsFaTkQMZOvG"
      },
      "source": [
        "def build_map(i,p):\n",
        "  node_cds = [(node['xy'][i][0], node['xy'][i][1])]\n",
        "  while p[i] != i:\n",
        "    node_cds.append((node['xy'][p[i]][0], node['xy'][p[i]][1]))\n",
        "    i = p[i]\n",
        "\n",
        "  map = folium.Map(location = node_cds[-1], zoom_start = 15)\n",
        "\n",
        "  folium.CircleMarker(node_cds[-1], radius=5, color=\"blue\", fill=True, fill_color=\"orange\").add_to(map)\n",
        "  folium.Marker(node_cds[0], icon = folium.Icon(color=\"blue\", icon=\"circle\", prefix='fa')).add_to(map)\n",
        "    \n",
        "  folium.PolyLine(locations = node_cds, weight=5, color=\"blue\", opacity=\"0.75\", dash_array=10).add_to(map)\n",
        "    \n",
        "  return map"
      ],
      "execution_count": 55,
      "outputs": []
    },
    {
      "cell_type": "markdown",
      "metadata": {
        "id": "R4qWs5EG2Imm"
      },
      "source": [
        "# Display Map\n"
      ]
    },
    {
      "cell_type": "code",
      "metadata": {
        "id": "-d7tHVlNrNuH"
      },
      "source": [
        "connectivity_matrix = create_connectivity()\n",
        "nodes_routes_values,p = plot_routes(125, connectivity_matrix)"
      ],
      "execution_count": 88,
      "outputs": []
    },
    {
      "cell_type": "code",
      "metadata": {
        "colab": {
          "base_uri": "https://localhost:8080/"
        },
        "id": "TXH1d36OkxXF",
        "outputId": "9f07e7a5-62e2-4d6d-f8d1-da6ad06c4d8c"
      },
      "source": [
        "print(nodes_routes_values)"
      ],
      "execution_count": 89,
      "outputs": [
        {
          "output_type": "stream",
          "text": [
            "[[125, 0], [115, 1], [75, 2], [113, 2], [114, 2], [116, 1], [118, 1], [121, 2], [122, 2], [132, 1], [8188, 2], [8189, 2], [12, 2], [26, 2], [28, 2], [34, 2], [37, 2], [39, 2], [41, 2], [42, 2], [55, 2], [69, 2], [76, 2], [102, 2], [105, 2], [110, 2], [136, 2], [140, 2], [301, 2], [305, 2], [442, 2], [117, 2], [119, 2], [120, 2], [128, 2], [129, 2], [131, 2], [127, 3], [73, 3], [74, 3], [77, 3], [92, 3], [126, 3], [296, 3], [9, 3], [10, 3], [11, 3], [13, 3], [14, 3], [15, 3], [8341, 3], [21, 3], [22, 3], [23, 3], [24, 3], [25, 3], [151, 3], [153, 3], [171, 3], [219, 3], [220, 3], [221, 3], [362, 3], [368, 3], [369, 3], [371, 3], [376, 3], [380, 3], [383, 3], [396, 3], [404, 3], [8132, 3], [8167, 3], [8180, 3], [8206, 3], [8246, 3], [8270, 3], [8277, 3], [8366, 3], [36, 3], [54, 3], [165, 3], [182, 3], [43, 3], [166, 3], [70, 3], [71, 3], [72, 3], [93, 3], [100, 3], [103, 3], [104, 3], [141, 3], [143, 3], [8348, 3], [17, 3], [107, 3], [112, 3], [152, 3], [156, 3], [158, 3], [109, 3], [111, 3], [130, 3], [124, 1], [8358, 2], [123, 1], [108, 2], [106, 3], [298, 3]]\n"
          ],
          "name": "stdout"
        }
      ]
    },
    {
      "cell_type": "code",
      "metadata": {
        "id": "WzW1KA67m7x0"
      },
      "source": [
        "map = build_map(298,p)\n",
        "display(map)\n",
        "\n",
        "'''for i,j in nodes_routes_values:\n",
        "  if j > 2:\n",
        "    map = build_map(i)\n",
        "    display(map)\n",
        "    time.sleep(2)\n",
        "    clear_output()'''"
      ],
      "execution_count": null,
      "outputs": []
    },
    {
      "cell_type": "code",
      "metadata": {
        "id": "PCZLrBCNnKFU"
      },
      "source": [
        ""
      ],
      "execution_count": null,
      "outputs": []
    }
  ]
}